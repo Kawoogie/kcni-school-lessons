{
 "cells": [
  {
   "cell_type": "markdown",
   "id": "d00aa90d-7b78-4477-bfe5-c7a2a584f08c",
   "metadata": {},
   "source": [
    "# EEG Analysis\n",
    "\n",
    "## Generating EEG From Simulation Dipolemoments"
   ]
  },
  {
   "cell_type": "code",
   "execution_count": null,
   "id": "50b97504-3e7b-4dd7-a08c-3cd466ae7aae",
   "metadata": {},
   "outputs": [],
   "source": [
    "# Import packages\n",
    "\n",
    "import numpy as np               # array manipulation\n",
    "np.seterr(divide='ignore',       # ignore warnings\n",
    "          invalid='ignore')      \n",
    "\n",
    "from scipy import stats as st    # stats\n",
    "from scipy import signal as ss\n",
    "import matplotlib                # plotting\n",
    "import matplotlib.pyplot as plt\n",
    "from mpl_toolkits.axes_grid.inset_locator import (inset_axes, InsetPosition,mark_inset) # insets for plots\n",
    "\n",
    "# EEG Model Fitting\n",
    "from fooof import FOOOF          # single PSD model\n",
    "from fooof import FOOOFGroup     # group PSD model\n",
    "\n",
    "# Import utilities to manage frequency band definitions\n",
    "from fooof.bands import Bands   \n",
    "from fooof.analysis import get_band_peak_fg\n",
    "\n",
    "# Import plotting function for model parameters and components\n",
    "from fooof.plts.periodic import plot_peak_fits, plot_peak_params\n",
    "from fooof.plts.aperiodic import plot_aperiodic_params, plot_aperiodic_fits\n",
    "from fooof.plts.spectra import plot_spectrum\n",
    "from fooof.sim.gen import gen_aperiodic\n",
    "from fooof.plts.spectra import plot_spectrum\n",
    "from fooof.plts.annotate import plot_annotated_model\n",
    "from fooof.objs.utils import average_fg"
   ]
  },
  {
   "cell_type": "markdown",
   "id": "5cc3a662-2f54-4ab6-9871-383e5136a896",
   "metadata": {},
   "source": [
    "### Calculating EEG From 4-sphere Head Model Example (Cannot run)"
   ]
  },
  {
   "cell_type": "code",
   "execution_count": null,
   "id": "a968d664-0327-469f-86e5-4772c2056dc4",
   "metadata": {},
   "outputs": [],
   "source": [
    "# Load in Data\n",
    "\n",
    "DIPOLEMOMENTS_H = [np.load(dp) for dp in <path-to-Healthy-DIPOLEMOMENTS>]\n",
    "DIPOLEMOMENTS_D = [np.load(dp) for dp in <path-to-Depression-DIPOLEMOMENTS>]\n",
    "\n",
    "DIPOLEMOMENTS = [DIPOLEMOMENTS_H,DIPOLEMOMENTS_D]\n",
    "\n",
    "#create empty dicts to hold data\n",
    "EEG_h,EEG_d = {},{}\n",
    "\n",
    "#params for forward solution\n",
    "radii = [79000., 80000., 85000., 90000.]           # pia, CSF, skull, scalp (um)\n",
    "sigmas = [0.47, 1.71, 0.02, 0.41]                  # ^ conductances (S/m)\n",
    "rz = np.array([0., 0., 78250.])                    # dipole location, center of L23 (um)\n",
    "r2 = np.array([[0., 0., 90000]])                   # EEG sensor location (um)\n",
    "\n",
    "EEG_args = LFPy.FourSphereVolumeConductor(radii, sigmas, r2) #set 4sphere model\n",
    "\n",
    "for i, DIPOLEMOMENT in enumerate(DIPOLEMOMENTS):   # for each condition\n",
    "    for j, run in enumerate(DIPOLEMOMENT):         # for each run in condition\n",
    "        dp = np.add(np.add(run['HL23PYR'],run['HL23SST']),np.add(run['HL23PV'],run['HL23VIP'])) # add dipole of each pop\n",
    "        EEG = EEG_args.calc_potential(dp, rz)      # calc EEG timeseries from summed dipolemoments\n",
    "\n",
    "        key = str(1000+j) if i==0 else str(2000+j) # create key=SEED\n",
    "        d = {str(key):{'ts_raw':EEG.flatten()}}\n",
    "        EEG_h.update(d) if i==0 else EEG_d.update(d)\n",
    "\n",
    "sf = 40000                                         # sampling frequency\n",
    "nperseg_welch = sf*3                               # 3s window\n",
    "noverlap_welch = perseg_welch*.5                   # 50% overlap\n",
    "end_freq = 120                                     # frequency to cut power spectrum array, to save space\n",
    "\n",
    "for e,signal in enumerate([EEG_h,EEG_d]):          # for each condition\n",
    "    for name, value in signal.items():             # for each run\n",
    "        for timeseries,ts in value.items():        # for each timeseries\n",
    "            w = {}\n",
    "            ts = ts.flatten()[80000:]              # flatten and remove transient 2s * 40000 data points / second\n",
    "\n",
    "            # Welch\n",
    "            freq_wel,ps_wel = ss.welch(ts, fs=sf, nperseg=nperseg_welch, noverlap=noverlap_welch)\n",
    "            \n",
    "            end_wel = int(end_freq/freq_wel[1])    # gives index of end freq\n",
    "            w = {'ps_wel':ps_wel[:end_wel]}\n",
    "\n",
    "        value.update(w)                            # update dictionary\n",
    "        \n",
    "        \n",
    "        \n",
    "# Output:\n",
    "\n",
    "# EEG_h:{'1000':'ts_raw':[],'ps_wel':[],\n",
    "#        '1001':'ts_raw':[],'ps_wel':[],\n",
    "#        '1002':'ts_raw':[],'ps_wel':[],\n",
    "#        '1003':'ts_raw':[],'ps_wel':[],\n",
    "#        ...\n",
    "#        '1059':'ts_raw':[],'ps_wel':[]}\n",
    "    \n",
    "# EEG_d:{'2000':'ts_raw':[],'ps_wel':[],\n",
    "#        '2001':'ts_raw':[],'ps_wel':[],\n",
    "#        '2002':'ts_raw':[],'ps_wel':[],\n",
    "#        '2003':'ts_raw':[],'ps_wel':[],\n",
    "#        ...\n",
    "#        '2059':'ts_raw':[],'ps_wel':[]}"
   ]
  },
  {
   "cell_type": "markdown",
   "id": "360d2e2d-04ca-417b-8268-98054e0405ff",
   "metadata": {},
   "source": [
    "### Dipolemoment -> EEG"
   ]
  },
  {
   "cell_type": "code",
   "execution_count": null,
   "id": "7f5f2f1b-4012-41ec-a026-35774e94f611",
   "metadata": {},
   "outputs": [],
   "source": [
    "# Load in data\n",
    "\n",
    "# DIPOLEMOMENTS\n",
    "PN = np.load('Data/Calculating_EEG/PN_DIPOLEMOMENT.npy')\n",
    "SST = np.load('Data/Calculating_EEG/SST_DIPOLEMOMENT.npy')\n",
    "PV = np.load('Data/Calculating_EEG/PV_DIPOLEMOMENT.npy')\n",
    "VIP = np.load('Data/Calculating_EEG/VIP_DIPOLEMOMENT.npy')\n",
    "\n",
    "\n",
    "# Corresponding EEG\n",
    "EEG_H = np.load('Data/Healthy/EEG_H.npy')"
   ]
  },
  {
   "cell_type": "code",
   "execution_count": null,
   "id": "2d8493f3-233e-421d-a098-bc90abee98b3",
   "metadata": {},
   "outputs": [],
   "source": [
    "# Plot Dipoles and EEG\n",
    "fig,axes = plt.subplots(figsize=(15,7),ncols=1,nrows=5)\n",
    "\n",
    "x_dip = np.arange(2000,4000,.025)\n",
    "x_eeg = np.arange(2000,30000+.025,.025)\n",
    "names = ['Pyr','SST','PV','VIP','EEG']\n",
    "\n",
    "# Dipoles\n",
    "axes[0].plot(x_dip,PN[:,2],c='k')#,DIPOLEMOMENT['HL23PN1'][:,2][80000:],c='k')      # Pyr z dipole\n",
    "axes[1].plot(x_dip,SST[:,2],c='red')    # SST z dipole\n",
    "axes[2].plot(x_dip,PV[:,2],c='green')  # PV z dipole\n",
    "axes[3].plot(x_dip,VIP[:,2],c='orange') # VIP z dipole\n",
    "\n",
    "# EEG\n",
    "axes[4].plot(x_eeg,EEG_H[1][80000:])\n",
    "axes[4].set_ylabel('Potential (mV)',fontsize=14)\n",
    "\n",
    "# Formatting\n",
    "fs,titlefs = 14,18\n",
    "[ax.set_title(name,loc='left',fontsize=fs) for ax,name in zip(axes,names)]\n",
    "[ax.set_xlim(2000,4000) for ax in axes]\n",
    "[ax.set_xticklabels([]) for ax in axes[:-1]]\n",
    "[ax.spines[side].set_visible(False) for side in ['right','top'] for ax in axes]\n",
    "[ax.tick_params(axis='both', which='major', labelsize=fs) for ax in axes]\n",
    "axes[-1].ticklabel_format(style='plain')\n",
    "fig.text(x=.01,y=.4,s='Current Dipole Moment (nA/um)',rotation=90,fontsize=fs)\n",
    "\n",
    "plt.tight_layout()"
   ]
  },
  {
   "cell_type": "markdown",
   "id": "11455d35-60d9-48c0-8978-5d8bb824ed99",
   "metadata": {},
   "source": [
    "## Example: Healthy Condition\n",
    "### 1) PSD using Welch's Method for One Simulation"
   ]
  },
  {
   "cell_type": "code",
   "execution_count": null,
   "id": "3ab9541e-150d-446a-93a6-886118a4c9f2",
   "metadata": {},
   "outputs": [],
   "source": [
    "# Load in Data\n",
    "#EEG_H = np.load('Data/Healthy/EEG_H.npy')\n",
    "\n",
    "# Set welch method parameters\n",
    "ts = EEG_H[0][80000:]                         # EEG timeseries after transient\n",
    "sampling_frequency = 40000                    # .025 ms = .000025 = 1/40000\n",
    "nperseg = sampling_frequency * 3              # 1 s window\n",
    "noverlap = nperseg*.5                         # overlap of windows\n",
    "\n",
    "freq,Pxx = ss.welch(ts,fs=sampling_frequency,nperseg=nperseg,noverlap=noverlap)\n",
    "\n",
    "print('Frequency resolution is',freq[1],'Hz')"
   ]
  },
  {
   "cell_type": "code",
   "execution_count": null,
   "id": "3d470bb9-b01f-4a91-a66d-1fea8c584dbd",
   "metadata": {},
   "outputs": [],
   "source": [
    "# Set frequency bounds\n",
    "endfreq = 100                                 # end freq\n",
    "endfreq_ind = np.where(freq==endfreq)[0][0]   # index of end freq\n",
    "\n",
    "freq_trim = freq[:endfreq_ind]\n",
    "Pxx_trim = Pxx[:endfreq_ind]\n",
    "print('Frequency resolution is',round(freq[1],2),'Hz, index of',endfreq,'Hz in frequency vector is position',endfreq_ind)"
   ]
  },
  {
   "cell_type": "code",
   "execution_count": null,
   "id": "91ad0acb-8faa-4943-a682-19c4633b9b15",
   "metadata": {},
   "outputs": [],
   "source": [
    "# Plot Single run PSD\n",
    "fig = plt.figure(figsize=(8,6))        \n",
    "axes = plt.subplot(111)\n",
    "\n",
    "# plot PSD in main plot\n",
    "axes.plot(freq_trim,Pxx_trim,c='k')\n",
    "\n",
    "# plot PSD in inset with log-log axes\n",
    "inset = axes.inset_axes([.5,.5,.5,.5])\n",
    "inset.plot(freq_trim,Pxx_trim,c='k')\n",
    "\n",
    "# Formatting\n",
    "axes.set_title('Healthy Power Spectral Density',fontsize=titlefs,y=1.05)\n",
    "[[ax.axvline(i,0,1, linestyle='--',color='k',alpha=.4) for ax in [axes,inset]] for i in [4,8,12]]\n",
    "[ax.spines[side].set_visible(False) for side in ['right','top'] for ax in [axes,inset]]\n",
    "[ax.tick_params(axis='both', which='major', labelsize=fs) for ax in [axes,inset]]\n",
    "axes.set_xlabel('Frequency (Hz)',fontsize=fs)\n",
    "axes.set_ylabel(r'Power $\\left( \\frac{ V^{2} }{Hz} \\right)$',fontsize=fs)\n",
    "inset.set_xscale('log')\n",
    "inset.set_yscale('log')\n",
    "inset.get_xaxis().set_major_formatter(matplotlib.ticker.ScalarFormatter())\n",
    "inset.get_yaxis().set_major_formatter(matplotlib.ticker.ScalarFormatter())\n",
    "axes.set_xticks([5,10,15,20,25,30])\n",
    "axes.set_xlim(4,30)\n",
    "inset.set_xlim(4,100)\n",
    "inset.set_yticklabels([])\n",
    "labels = [r'$\\theta$',r'$\\alpha$',r'$\\beta$']\n",
    "[axes.annotate(xy=(x,0),text=t,fontsize=fs) for x,t in zip([5.5,9.5,22],labels)]\n",
    "[inset.annotate(xy=(x,.5e-16),text=t,fontsize=fs) for x,t in zip([5,8.5,22],labels)]\n",
    "plt.tight_layout()"
   ]
  },
  {
   "cell_type": "markdown",
   "id": "2d182fbe-9d83-422a-accf-0e7ce24e1122",
   "metadata": {},
   "source": [
    "### 2) Describing Single PSD with FOOOF"
   ]
  },
  {
   "cell_type": "code",
   "execution_count": null,
   "id": "fba40463-ad97-463a-8507-a240e246b484",
   "metadata": {},
   "outputs": [],
   "source": [
    "# Define model parameters\n",
    "H1 = FOOOF(peak_width_limits = (1.5,12.0),  # Limits on possible peak width, in Hz, as (lower_bound, upper_bound)\n",
    "           max_n_peaks = 3,                 # Maximum number of peaks to fit.\n",
    "           min_peak_height = 0,             # Absolute threshold for detecting peaks, in units of the input data.\n",
    "           peak_threshold = 2,              # Relative threshold for detecting peaks, in units of standard deviation of input data\n",
    "           aperiodic_mode = 'fixed')        # Which approach to take for fitting the aperiodic component."
   ]
  },
  {
   "cell_type": "code",
   "execution_count": null,
   "id": "dcf8353a-b5c3-40d8-b05d-ca18d3fd8510",
   "metadata": {},
   "outputs": [],
   "source": [
    "# Set model bounds\n",
    "startfreqind = np.where(freq==1)[0][0]\n",
    "endfreqind = np.where(freq==30)[0][0]\n",
    "\n",
    "# Fit model\n",
    "H1.fit(freqs=freq[startfreqind:endfreqind],          # frequencies to fit model\n",
    "      power_spectrum = Pxx[startfreqind:endfreqind]) # power spectra to fit"
   ]
  },
  {
   "cell_type": "code",
   "execution_count": null,
   "id": "4b3956a6-77e1-4687-8ba5-f8bfdda36a2e",
   "metadata": {},
   "outputs": [],
   "source": [
    "# Plot original data with fit\n",
    "H1.plot(plt_log=True) # change plt_log=False"
   ]
  },
  {
   "cell_type": "code",
   "execution_count": null,
   "id": "298a4239-14aa-4406-a26a-9aed63e84848",
   "metadata": {},
   "outputs": [],
   "source": [
    "# Plot annotated model\n",
    "plot_annotated_model(H1, annotate_aperiodic=False,plt_log=True)"
   ]
  },
  {
   "cell_type": "code",
   "execution_count": null,
   "id": "c948e9ec-3073-4d8e-8c8d-5f8de76b0f84",
   "metadata": {},
   "outputs": [],
   "source": [
    "# Print out model fit results\n",
    "print('\\naperiodic params:\\n')\n",
    "print('    Offset       Exponent') # Offset = y-int, Exponent=slope of aperiodic\n",
    "print(H1.aperiodic_params_)\n",
    "\n",
    "print('\\npeak params:\\n')\n",
    "print(' Center Freq     Power      Bandwidth') # Center of gaussian, peak of gaussian above aperiodic, width of gaussian\n",
    "print(H1.peak_params_)\n",
    "\n",
    "print('\\nr-squared:', H1.r_squared_) # coefficient of determination, how much data variation is determined by model\n",
    "\n",
    "print('\\nfit error:', H1.error_) # error of model"
   ]
  },
  {
   "cell_type": "code",
   "execution_count": null,
   "id": "fe85b928-00be-4515-a723-42eefb39dda8",
   "metadata": {},
   "outputs": [],
   "source": [
    "# Generate Aperiodic and Periodic components of power spectra\n",
    "H_AP_fit = gen_aperiodic(H1.freqs,H1.aperiodic_params_)        # generate aperiodic fit to absolute\n",
    "\n",
    "H_P_fit = H1.power_spectrum-H_AP_fit                           # generate periodic PS by subtracting aperiodic from absolute"
   ]
  },
  {
   "cell_type": "code",
   "execution_count": null,
   "id": "5f7eb347-8ea2-4947-bd29-ae348dfb1db2",
   "metadata": {},
   "outputs": [],
   "source": [
    "# Plot components and full PSD together\n",
    "fig = plt.figure(figsize=(15,6))\n",
    "\n",
    "absolute = plt.subplot(131)\n",
    "aperiodic = plt.subplot(132)\n",
    "periodic = plt.subplot(133)\n",
    "\n",
    "absolute.plot(freq[:endfreq_ind],Pxx[:endfreq_ind],color='k') # plot absolute\n",
    "aperiodic.plot(H1.freqs,H_AP_fit,color='k')                   # plot aperiodic\n",
    "periodic.plot(H1.freqs,H_P_fit,color='k')                     # plot periodic\n",
    "\n",
    "axes = [absolute,aperiodic,periodic]\n",
    "\n",
    "# Formatting\n",
    "[[ax.axvline(i,0,1, linestyle='--',color='k',alpha=.4) for ax in axes] for i in [4,8,12]]\n",
    "[ax.spines[side].set_visible(False) for side in ['right','top'] for ax in axes]\n",
    "[ax.tick_params(axis='both', which='major', labelsize=fs) for ax in axes]\n",
    "[ax.set_xticks([5,10,15,20,25,30]) for ax in axes]\n",
    "_=[ax.set_yticklabels([]) for ax in axes[1:]]\n",
    "absolute.set_title('Absolute PSD',fontsize=titlefs)\n",
    "aperiodic.set_title('Aperiodic PSD',fontsize=titlefs)\n",
    "periodic.set_title('Periodic PSD',fontsize=titlefs)\n",
    "[ax.set_xlabel('Frequency (Hz)',fontsize=fs) for ax in axes]\n",
    "absolute.set_ylabel(r'Power $\\left( \\frac{ V^{2} }{Hz} \\right)$',fontsize=fs)\n",
    "aperiodic.set_ylabel('Power (a.u)',fontsize=fs)\n",
    "[ax.set_xlim(4,30) for ax in axes]\n",
    "plt.tight_layout()"
   ]
  },
  {
   "cell_type": "markdown",
   "id": "01ca0979-fec3-4478-bb22-19aef8eb6459",
   "metadata": {},
   "source": [
    "### 3) Mean PSD for Healthy Condition"
   ]
  },
  {
   "cell_type": "code",
   "execution_count": null,
   "id": "4d338d1b-d387-4a77-83c7-b1b0842ac81d",
   "metadata": {},
   "outputs": [],
   "source": [
    "# Load in data\n",
    "EEG_H = np.load('Data/Healthy/EEG_H.npy')\n",
    "\n",
    "print(len(EEG_H),'timeseries loaded.')"
   ]
  },
  {
   "cell_type": "code",
   "execution_count": null,
   "id": "5e05f1e3-9540-4053-af97-9c04da128e85",
   "metadata": {},
   "outputs": [],
   "source": [
    "# Generate PSDs\n",
    "ts = EEG_H[0][80000:]                         # EEG timeseries after transient\n",
    "sampling_frequency = 40000                    # .025 ms = .000025 = 1/40000\n",
    "nperseg = sampling_frequency * 3              # 1 s window\n",
    "noverlap = nperseg*.5                         # overlap of windows\n",
    "\n",
    "H_PS = [0,0,0,0,0]                            # hold power spectra\n",
    "\n",
    "for r,ts in enumerate(EEG_H):\n",
    "    print('Calculating PSD for simulation',r)\n",
    "    freq,Pxx = ss.welch(ts[80000:],fs=sampling_frequency,nperseg=nperseg,noverlap=noverlap)\n",
    "    \n",
    "    endfreqind = np.where(freq==100)[0][0]    # end index\n",
    "    \n",
    "    H_PS[r] = Pxx[:endfreqind]\n",
    "\n",
    "freq_trim = freq[:endfreqind]\n",
    "print('\\nFrequency resolution is',round(freq_trim[1],2),'Hz')\n",
    "\n",
    "H_PS = np.array(H_PS)"
   ]
  },
  {
   "cell_type": "code",
   "execution_count": null,
   "id": "80221652-eb9f-4a16-a221-0cf6efd456f9",
   "metadata": {},
   "outputs": [],
   "source": [
    "# Check if correct shape\n",
    "H_PS.shape # 5 runs, 300 datapoints"
   ]
  },
  {
   "cell_type": "code",
   "execution_count": null,
   "id": "2b4df2da-05bc-444b-b42d-75f5c17891a8",
   "metadata": {},
   "outputs": [],
   "source": [
    "# Calculate mean and standard deviation\n",
    "H_PS_mean = np.mean(H_PS,axis=0) # mean for freq power\n",
    "H_PS_sd = np.std(H_PS,axis=0)    # sd for each freq power"
   ]
  },
  {
   "cell_type": "code",
   "execution_count": null,
   "id": "df0404a3-3b89-41c2-ae9a-c5b7d48b0a7d",
   "metadata": {},
   "outputs": [],
   "source": [
    "# Plot group-averaged PSD with mean and shaded sd\n",
    "\n",
    "fig = plt.figure(figsize=(8,6))\n",
    "ax1 = plt.subplot(111)\n",
    "\n",
    "# Set values up for plotting\n",
    "x = freq[:endfreqind]\n",
    "y = H_PS_mean\n",
    "lower_sd = H_PS_mean - H_PS_sd   # fill in later\n",
    "upper_sd = H_PS_mean + H_PS_sd   # fill in later\n",
    "\n",
    "# plot PSD in main plot\n",
    "ax1.plot(x,y,color='k')                                    # plot mean\n",
    "ax1.fill_between(x,lower_sd,upper_sd,color='k',alpha=.15)  # shade sd\n",
    "\n",
    "# plot PSD in inset with log-log axes\n",
    "inset = ax1.inset_axes([.5,.5,.5,.5])                      # inset for plot\n",
    "inset.plot(x,y,color='k')                                  # same mean as above\n",
    "inset.fill_between(x,lower_sd,upper_sd,color='k',alpha=.15)# same sd as above\n",
    "\n",
    "# Formatting\n",
    "ax1.set_title('Healthy Power Spectral Density',fontsize=titlefs,y=1.05)\n",
    "[[ax.axvline(i,0,1, linestyle='--',color='k',alpha=.4) for ax in [ax1,inset]] for i in [4,8,12]]\n",
    "[ax.spines[side].set_visible(False) for side in ['right','top'] for ax in [ax1,inset]]\n",
    "[ax.tick_params(axis='both', which='major', labelsize=fs) for ax in [ax1,inset]]\n",
    "ax1.set_xlabel('Frequency (Hz)',fontsize=fs)\n",
    "ax1.set_ylabel(r'Power $\\left( \\frac{ V^{2} }{Hz} \\right)$',fontsize=fs)\n",
    "inset.set_xscale('log')\n",
    "inset.set_yscale('log')\n",
    "inset.get_xaxis().set_major_formatter(matplotlib.ticker.ScalarFormatter())\n",
    "inset.get_yaxis().set_major_formatter(matplotlib.ticker.ScalarFormatter())\n",
    "ax1.set_xticks([5,10,15,20,25,30])\n",
    "ax1.set_xlim(4,30)\n",
    "inset.set_xlim(4,100)\n",
    "inset.set_yticklabels([])\n",
    "labels = [r'$\\theta$',r'$\\alpha$',r'$\\beta$']\n",
    "[ax1.annotate(xy=(x,0),text=t,fontsize=fs) for x,t in zip([5.5,9.5,22],labels)]\n",
    "[inset.annotate(xy=(x,.5e-16),text=t,fontsize=fs) for x,t in zip([5,8.5,22],labels)]\n",
    "plt.tight_layout()"
   ]
  },
  {
   "cell_type": "markdown",
   "id": "5318d48b-327d-4d05-9e62-dc8f605afdd8",
   "metadata": {},
   "source": [
    "### 4) Describing Multiple PSDs with FOOOF (FOOOF Group Analysis)"
   ]
  },
  {
   "cell_type": "code",
   "execution_count": null,
   "id": "8de2e781-e4cc-4bb2-954b-994d82627a55",
   "metadata": {},
   "outputs": [],
   "source": [
    "# Load in Data\n",
    "# EEG_H = np.load('Data/Healthy/EEG_H.npy')\n",
    "\n",
    "# Calculate PSD for each condition\n",
    "sampling_frequency = 40000                    # .025 ms = .000025 = 1/40000\n",
    "nperseg = sampling_frequency * 3              # 1 s window\n",
    "noverlap = nperseg*.5                         # overlap of windows\n",
    "\n",
    "H_PS = [0,0,0,0,0]                            # hold power spectra\n",
    "endfreqind = np.where(freq==100)[0][0]        # end index\n",
    "\n",
    "for r,ts in enumerate(EEG_H):\n",
    "    freq,Pxx = ss.welch(ts[80000:],fs=sampling_frequency,nperseg=nperseg,noverlap=noverlap)\n",
    "    H_PS[r] = Pxx[:endfreqind]\n",
    "\n",
    "H_PS = np.array(H_PS)\n",
    "\n",
    "print('Frequency resolution is',round(freq[1],2))"
   ]
  },
  {
   "cell_type": "code",
   "execution_count": null,
   "id": "c65147bc-996e-46a2-9fe2-674930f2d674",
   "metadata": {},
   "outputs": [],
   "source": [
    "# Fits all power spectra in a group of power spectra\n",
    "\n",
    "H = FOOOFGroup(peak_width_limits=[2, 12.0],  \n",
    "            max_n_peaks= 3,                 # aprox 1 peak / freq band\n",
    "            min_peak_height=0,\n",
    "            peak_threshold=2.0,\n",
    "            aperiodic_mode='fixed',\n",
    "            verbose = True)\n",
    "\n",
    "startfreqind = np.where(freq==3)[0][0]\n",
    "endfreqind = np.where(freq==30)[0][0]\n",
    "\n",
    "H.fit(freqs=freq[startfreqind:endfreqind],              # frequencies to fit model\n",
    "      power_spectra = H_PS[:,startfreqind:endfreqind])  # power spectra to fit     "
   ]
  },
  {
   "cell_type": "code",
   "execution_count": null,
   "id": "7f451d06-4624-45dc-adc6-ed600d990334",
   "metadata": {},
   "outputs": [],
   "source": [
    "# Print out model fit results\n",
    "print('\\naperiodic params:\\n')\n",
    "print('    Offset       Exponent') # Offset = y-int, Exponent=slope of aperiodic\n",
    "print(H.get_params('aperiodic'))\n",
    "\n",
    "print('\\npeak params:\\n')\n",
    "print(' Center Freq     Power     Bandwidth    Sim #') # Center of gaussian, peak of gaussian above aperiodic, width of gaussian\n",
    "print(H.get_params('peak_params'))"
   ]
  },
  {
   "cell_type": "code",
   "execution_count": null,
   "id": "5d9a5d5b-4db6-440f-b34e-fb85bdf5dc0a",
   "metadata": {},
   "outputs": [],
   "source": [
    "# Plot fits and group average\n",
    "\n",
    "fig,axes = plt.subplots(figsize=(16,6),nrows=1,ncols=4,sharey=True) #axes = [subplot,subplot,subplot,subplot]\n",
    "\n",
    "[H.get_fooof(ind=i).plot(ax=axes[i],add_legend=False) for i in range(3)] # list of first 3 fits in group\n",
    "\n",
    "# Define frequency bands of interest\n",
    "bands = Bands({'theta' : [4, 8],\n",
    "               'alpha' : [8, 12],\n",
    "               'beta' : [12, 30]})\n",
    "\n",
    "h_av = average_fg(H, bands, avg_method='mean')             # average all model fits using predefined bands\n",
    "h_av.plot(plot_peaks='shade',add_legend=False,ax=axes[3])  # plot group average \n",
    "\n",
    "\n",
    "# Formatting\n",
    "[ax.set_yticklabels([]) for ax in axes[1:]]\n",
    "[ax.set_ylabel('') for ax in axes[1:]]\n",
    "_=[ax.set_title(t,fontsize=titlefs) for ax,t in zip(axes,['Sim 1','Sim 2','Sim 3','Group Average'])]"
   ]
  },
  {
   "cell_type": "code",
   "execution_count": null,
   "id": "ffc542bb-631f-40a2-b560-42ae8e6737a3",
   "metadata": {},
   "outputs": [],
   "source": [
    "# Generate Aperiodic and Periodic fits for each simulation\n",
    "\n",
    "# Aperiodic\n",
    "H_APs = np.zeros_like(H_PS[:,startfreqind:endfreqind]) # hold aperiodic PS\n",
    "\n",
    "for i in range(5):\n",
    "    H_APs[i] = gen_aperiodic(H.freqs,H.get_params('aperiodic')[i])\n",
    "\n",
    "# Periodic\n",
    "H_Ps = np.zeros_like(H_PS[:,startfreqind:endfreqind]) # hold Periodic PS\n",
    "\n",
    "for i in range(5):\n",
    "    PS_abs = H.get_fooof(ind=i).power_spectrum\n",
    "    H_Ps[i] = PS_abs - H_APs[i]\n",
    "\n",
    "print('Absolute power spectra:',H_PS[:,startfreqind:endfreqind].shape)\n",
    "print('Aperiodic power spectra:',H_APs.shape)\n",
    "print('Periodic power spectra:',H_APs.shape)"
   ]
  },
  {
   "cell_type": "code",
   "execution_count": null,
   "id": "3d47eb1d-40f0-49f2-957b-b501d67bdf73",
   "metadata": {},
   "outputs": [],
   "source": [
    "# Average over simulations\n",
    "H_PS_mean = np.mean(H_PS[:,startfreqind:endfreqind],axis=0)\n",
    "H_PS_sd = np.std(H_PS[:,startfreqind:endfreqind],axis=0)\n",
    "\n",
    "H_APs_mean = np.mean(H_APs,axis=0)\n",
    "H_APs_sd = np.std(H_APs,axis=0)\n",
    "\n",
    "H_Ps_mean = np.mean(H_Ps,axis=0)\n",
    "H_Ps_sd = np.std(H_Ps,axis=0)\n",
    "\n",
    "print('Mean absolute power spectra:',H_PS_mean.shape)\n",
    "print('Mean Aperiodic power spectra:',H_APs_mean.shape)\n",
    "print('Mean Periodic power spectra:',H_Ps_mean.shape)"
   ]
  },
  {
   "cell_type": "code",
   "execution_count": null,
   "id": "72a45398-b5a1-44e9-a8e0-1bcbf94d280c",
   "metadata": {},
   "outputs": [],
   "source": [
    "# Setup values for plotting\n",
    "\n",
    "# shared for all\n",
    "x = H.freqs\n",
    "\n",
    "# abs\n",
    "H_PS_sd_l = H_PS_mean - H_PS_sd\n",
    "H_PS_sd_u = H_PS_mean + H_PS_sd\n",
    "\n",
    "# aperiodic\n",
    "H_APs_sd_l = H_APs_mean - H_APs_sd\n",
    "H_APs_sd_u = H_APs_mean + H_APs_sd\n",
    "\n",
    "# periodic\n",
    "H_Ps_sd_l = H_Ps_mean - H_Ps_sd\n",
    "H_Ps_sd_u = H_Ps_mean + H_Ps_sd"
   ]
  },
  {
   "cell_type": "code",
   "execution_count": null,
   "id": "74386ff1-9d92-4bbb-bab5-399e0d255b6d",
   "metadata": {},
   "outputs": [],
   "source": [
    "# Plot Group Averaged Power Spectra\n",
    "fig = plt.figure(figsize=(15,6))\n",
    "\n",
    "absolute = plt.subplot(131)\n",
    "aperiodic = plt.subplot(132)\n",
    "periodic = plt.subplot(133)\n",
    "\n",
    "absolute.plot(x,H_PS_mean,color='k')\n",
    "absolute.fill_between(x,H_PS_sd_l,H_PS_sd_u,color='k',alpha=.15) \n",
    "\n",
    "aperiodic.plot(x,H_APs_mean,color='k')           \n",
    "aperiodic.fill_between(x,H_APs_sd_l,H_APs_sd_u,color='k',alpha=.15) \n",
    "\n",
    "periodic.plot(x,H_Ps_mean,color='k')   \n",
    "periodic.fill_between(x,H_Ps_sd_l,H_Ps_sd_u,color='k',alpha=.15) \n",
    "\n",
    "\n",
    "\n",
    "# Formatting\n",
    "axes = [absolute,aperiodic,periodic]\n",
    "[[ax.axvline(i,0,1, linestyle='--',color='k',alpha=.4) for ax in axes] for i in [4,8,12]]\n",
    "[ax.spines[side].set_visible(False) for side in ['right','top'] for ax in axes]\n",
    "[ax.tick_params(axis='both', which='major', labelsize=fs) for ax in axes]\n",
    "[ax.set_xticks([5,10,15,20,25,30]) for ax in axes]\n",
    "_=[ax.set_yticklabels([]) for ax in axes[1:]]\n",
    "absolute.set_title('Absolute PSD',fontsize=titlefs)\n",
    "aperiodic.set_title('Aperiodic PSD',fontsize=titlefs)\n",
    "periodic.set_title('Periodic PSD',fontsize=titlefs)\n",
    "[ax.set_xlabel('Frequency (Hz)',fontsize=fs) for ax in axes]\n",
    "absolute.set_ylabel(r'Power $\\left( \\frac{ V^{2} }{Hz} \\right)$',fontsize=fs)\n",
    "aperiodic.set_ylabel('Power (a.u)',fontsize=fs)\n",
    "[ax.set_xlim(4,30) for ax in axes]\n",
    "plt.tight_layout()"
   ]
  },
  {
   "cell_type": "markdown",
   "id": "176805a6-0268-4a25-a443-d8acbb67a576",
   "metadata": {},
   "source": [
    "# Compare Healthy and Depression Microcircuits"
   ]
  },
  {
   "cell_type": "markdown",
   "id": "cc39b568-274b-4485-a55d-e742d54dd0d7",
   "metadata": {},
   "source": [
    "## Task 1: Compare Healthy and Depression PSDs"
   ]
  },
  {
   "cell_type": "code",
   "execution_count": null,
   "id": "caceeb69-9d21-4952-b761-8f26be20bf3e",
   "metadata": {},
   "outputs": [],
   "source": [
    "# Load in Data\n"
   ]
  },
  {
   "cell_type": "code",
   "execution_count": null,
   "id": "4f2c958c-e871-45a1-bd09-a872e7485a85",
   "metadata": {},
   "outputs": [],
   "source": [
    "# Calculate PSD for each condition \n",
    "sampling_frequency = 40000                    # .025 ms = .000025 = 1/40000\n",
    "nperseg = sampling_frequency * 3              # 1 s window\n",
    "noverlap = nperseg*.5                         # overlap of windows\n",
    "\n",
    "# Healthy\n",
    "\n",
    "# Depression\n"
   ]
  },
  {
   "cell_type": "code",
   "execution_count": null,
   "id": "c0e2807e-caf9-488b-8496-e0fa97d7983d",
   "metadata": {},
   "outputs": [],
   "source": [
    "# Check if correct shape\n"
   ]
  },
  {
   "cell_type": "code",
   "execution_count": null,
   "id": "ac19f4d1-7212-4ac6-828b-69af15a27013",
   "metadata": {},
   "outputs": [],
   "source": [
    "# Calculate mean and standard deviation for each condition\n"
   ]
  },
  {
   "cell_type": "code",
   "execution_count": null,
   "id": "b47345b8-58f6-4506-89fe-0cd7b284fa66",
   "metadata": {},
   "outputs": [],
   "source": [
    "# Plot group-averaged PSD with mean and shaded sd\n",
    "fig = plt.figure(figsize=(8,6))\n",
    "ax1 = plt.subplot(111)                 # main plot\n",
    "inset = ax1.inset_axes([.5,.5,.5,.5])  # inset with log-log axes\n",
    "\n",
    "# Healthy\n",
    "h_x = freq[:endfreqind]\n",
    "h_y = H_PS_mean\n",
    "h_lower_sd = H_PS_mean - H_PS_sd   # fill in later\n",
    "h_upper_sd = H_PS_mean + H_PS_sd   # fill in later\n",
    "\n",
    "ax1.plot(h_x,h_y,color='k')                  \n",
    "ax1.fill_between(h_x,h_lower_sd,h_upper_sd,color='k',alpha=.15)\n",
    "inset.plot(h_x,h_y,color='k')\n",
    "inset.fill_between(h_x,h_lower_sd,h_upper_sd,color='k',alpha=.15)\n",
    "\n",
    "# Depression\n",
    "# plot mean depression PSD +/- sd in the same subplot as healhty\n",
    "d_x = \n",
    "d_y = \n",
    "d_lower_sd = \n",
    "d_upper_sd = \n",
    "\n",
    "dclr = (0.8, 0.0, 0.45)\n",
    "\n",
    "ax1.plot(d_x,d_y,color=dclr)\n",
    "ax1.fill_between(d_x,d_lower_sd,d_upper_sd,color=dclr,alpha=.15)\n",
    "inset.plot(d_x,d_y,color=dclr)\n",
    "inset.fill_between(d_x,d_lower_sd,d_upper_sd,color=dclr,alpha=.15)\n",
    "\n",
    "# Formatting\n",
    "ax1.set_title('Healthy Power Spectral Density',fontsize=titlefs,y=1.05)\n",
    "[[ax.axvline(i,0,1, linestyle='--',color='k',alpha=.4) for ax in [ax1,inset]] for i in [4,8,12]]\n",
    "[ax.spines[side].set_visible(False) for side in ['right','top'] for ax in [ax1,inset]]\n",
    "[ax.tick_params(axis='both', which='major', labelsize=fs) for ax in [ax1,inset]]\n",
    "ax1.set_xlabel('Frequency (Hz)',fontsize=fs)\n",
    "ax1.set_ylabel(r'Power $\\left( \\frac{ V^{2} }{Hz} \\right)$',fontsize=fs)\n",
    "inset.set_xscale('log')\n",
    "inset.set_yscale('log')\n",
    "inset.get_xaxis().set_major_formatter(matplotlib.ticker.ScalarFormatter())\n",
    "inset.get_yaxis().set_major_formatter(matplotlib.ticker.ScalarFormatter())\n",
    "ax1.set_xticks([5,10,15,20,25,30])\n",
    "ax1.set_xlim(4,30)\n",
    "inset.set_xlim(4,100)\n",
    "inset.set_yticklabels([])\n",
    "labels = [r'$\\theta$',r'$\\alpha$',r'$\\beta$']\n",
    "[ax1.annotate(xy=(x,0),text=t,fontsize=fs) for x,t in zip([5.5,9.5,22],labels)]\n",
    "[inset.annotate(xy=(x,.5e-16),text=t,fontsize=fs) for x,t in zip([5,8.5,22],labels)]\n",
    "plt.tight_layout()"
   ]
  },
  {
   "cell_type": "markdown",
   "id": "bb1e8572-06f9-45f1-8ca1-8ae5309d7c6c",
   "metadata": {},
   "source": [
    "## Task 2: Compare Healthy and Depression FOOOF models"
   ]
  },
  {
   "cell_type": "code",
   "execution_count": null,
   "id": "67c72084-0494-4aea-9095-5eb6885186e1",
   "metadata": {},
   "outputs": [],
   "source": [
    "# Load in Data\n",
    "\n",
    "# Calculate PSD for each condition\n"
   ]
  },
  {
   "cell_type": "code",
   "execution_count": null,
   "id": "d37a3d19-91bc-41ae-a4ed-4b4501d13bb8",
   "metadata": {},
   "outputs": [],
   "source": [
    "# Fits all power spectra in a group of power spectra\n"
   ]
  },
  {
   "cell_type": "code",
   "execution_count": null,
   "id": "d26578ef-c147-498e-adee-d05dc1fe25ad",
   "metadata": {},
   "outputs": [],
   "source": [
    "# Print out model fit results\n"
   ]
  },
  {
   "cell_type": "code",
   "execution_count": null,
   "id": "5a31a1f1-59ca-42bf-bc8a-347570c9f450",
   "metadata": {},
   "outputs": [],
   "source": [
    "# Plot fits and group average\n",
    "fig,axes = plt.subplots(figsize=(16,6),nrows=2,ncols=4,sharey=True)\n",
    "\n",
    "# Define frequency bands of interest\n",
    "bands = Bands({'theta' : [4, 8],\n",
    "               'alpha' : [8, 12],\n",
    "               'beta' : [12, 30]})\n",
    "\n",
    "# Healthy\n",
    "[H.get_fooof(ind=i).plot(ax=axes[0][i],add_legend=False) for i in range(3)] \n",
    "h_av = average_fg(H, bands, avg_method='mean')                # average all model fits using predefined bands\n",
    "h_av.plot(plot_peaks='shade',add_legend=False,ax=axes[0][3])  # plot group average \n",
    "\n",
    "# Depression\n",
    "# axes for individual simulation plots are axes[1][i]\n",
    "# axes for group average plot is axes[1][3]\n",
    "\n",
    "\n",
    "[ax.set_yticklabels([]) for ax in axes[0][1:]]\n",
    "[ax.set_ylabel('') for ax in axes[0][1:]]\n",
    "[ax.set_ylabel('') for ax in axes[1][1:]]\n",
    "[ax.set_xlabel('') for ax in axes[0]]\n",
    "_=[ax.set_title(t,fontsize=titlefs) for ax,t in zip(axes[0],['Sim 1','Sim 2','Sim 3','Group Average'])]"
   ]
  },
  {
   "cell_type": "code",
   "execution_count": null,
   "id": "c74ecd04-e81e-41c6-8584-dfec258ac768",
   "metadata": {},
   "outputs": [],
   "source": [
    "# Generate Aperiodic and Periodic fits for each simulation\n",
    "\n",
    "# Aperiodic\n",
    "\n",
    "\n",
    "# Periodic\n",
    "\n"
   ]
  },
  {
   "cell_type": "code",
   "execution_count": null,
   "id": "ca89d5e3-d058-4026-9a8f-3990896c19bd",
   "metadata": {},
   "outputs": [],
   "source": [
    "# Average over simulations\n",
    "\n",
    "#--------------Indexing healthy, do not remove---------------\n",
    "H_PS_mean = np.mean(H_PS[:,startfreqind:endfreqind],axis=0)\n",
    "H_PS_sd = np.std(H_PS[:,startfreqind:endfreqind],axis=0)\n",
    "#------------------------------------------------------------\n",
    "\n"
   ]
  },
  {
   "cell_type": "code",
   "execution_count": null,
   "id": "533971b0-4883-48b2-b438-208144adcb25",
   "metadata": {},
   "outputs": [],
   "source": [
    "# Setup values for plotting\n",
    "\n",
    "# abs\n",
    "\n",
    "# aperiodic\n",
    "\n",
    "# periodic\n"
   ]
  },
  {
   "cell_type": "code",
   "execution_count": null,
   "id": "75723f39-d29e-4b30-a194-9034a1504d2f",
   "metadata": {},
   "outputs": [],
   "source": [
    "# Plot Group Averaged Power Spectra\n",
    "fig = plt.figure(figsize=(15,6))\n",
    "\n",
    "absolute = plt.subplot(131)    # absolute subplot for healthy and depression\n",
    "aperiodic = plt.subplot(132)   # aperiodic suboplot for healthy and depression\n",
    "periodic = plt.subplot(133)    # periodic suboplot for healthy and depression\n",
    "\n",
    "# Healthy\n",
    "# for all - plot mean, then fill between mean+sd, mean-sd\n",
    "\n",
    "absolute.plot(x,H_PS_mean,color='k')\n",
    "absolute.fill_between(x,H_PS_sd_l,H_PS_sd_u,color='k',alpha=.15) \n",
    "\n",
    "aperiodic.plot(x,H_APs_mean,color='k')           \n",
    "aperiodic.fill_between(x,H_APs_sd_l,H_APs_sd_u,color='k',alpha=.15) \n",
    "\n",
    "periodic.plot(x,H_Ps_mean,color='k')   \n",
    "periodic.fill_between(x,H_Ps_sd_l,H_Ps_sd_u,color='k',alpha=.15) \n",
    "\n",
    "\n",
    "# Depression\n",
    "# color = dclr\n",
    "\n",
    "\n",
    "# Formatting\n",
    "axes = [absolute,aperiodic,periodic]\n",
    "[[ax.axvline(i,0,1, linestyle='--',color='k',alpha=.4) for ax in axes] for i in [4,8,12]]\n",
    "[ax.spines[side].set_visible(False) for side in ['right','top'] for ax in axes]\n",
    "[ax.tick_params(axis='both', which='major', labelsize=fs) for ax in axes]\n",
    "[ax.set_xticks([5,10,15,20,25,30]) for ax in axes]\n",
    "_=[ax.set_yticklabels([]) for ax in axes[1:]]\n",
    "absolute.set_title('Absolute PSD',fontsize=titlefs)\n",
    "aperiodic.set_title('Aperiodic PSD',fontsize=titlefs)\n",
    "periodic.set_title('Periodic PSD',fontsize=titlefs)\n",
    "[ax.set_xlabel('Frequency (Hz)',fontsize=fs) for ax in axes]\n",
    "absolute.set_ylabel(r'Power $\\left( \\frac{ V^{2} }{Hz} \\right)$',fontsize=fs)\n",
    "aperiodic.set_ylabel('Power (a.u)',fontsize=fs)\n",
    "[ax.set_xlim(4,30) for ax in axes]\n",
    "plt.tight_layout()"
   ]
  },
  {
   "cell_type": "markdown",
   "id": "d35e669f-e4e4-4527-b38e-30883099725e",
   "metadata": {},
   "source": [
    "### Bonus: Frequency band power change"
   ]
  },
  {
   "cell_type": "code",
   "execution_count": null,
   "id": "4d09323d-e279-4d83-8975-548e42c84c26",
   "metadata": {},
   "outputs": [],
   "source": [
    "# labels\n",
    "colors = ['k',dclr]\n",
    "labels = ['Healthy','Depression']\n",
    "\n",
    "# Define the frequency range for our simulations\n",
    "freq_range = [freq[startfreqind],freq[endfreqind]]\n",
    "\n",
    "# Define frequency bands of interest\n",
    "bands = Bands({'theta' : [4, 8],\n",
    "               'alpha' : [8, 12],\n",
    "               'beta' : [12, 30]})\n",
    "\n",
    "fig = plt.figure(figsize=(18,6))\n",
    "for b,band in enumerate(bands.bands.items()):\n",
    "    \n",
    "    h_b = get_band_peak_fg(H, band[1]) # get peaks from Healthy, defined by band limits\n",
    "    d_b = \n",
    "    \n",
    "    ax1 = plt.subplot(1,3,b+1) # plot peaks\n",
    "    \n",
    "    bs = [h_b,d_b]\n",
    "    freq_range = [band[1][0]-4,band[1][1]+4] # xrange\n",
    "    plot_peak_params(bs, freq_range=freq_range,labels=labels, colors=colors,ax=ax1) # plot band power\n",
    "    \n",
    "    ax1.set_title(band[0],fontsize=titlefs)\n",
    "    ax1.set_ylim(0,1)\n"
   ]
  },
  {
   "cell_type": "markdown",
   "id": "f65c207b-3146-40a2-9ec8-1ffd0e6a7753",
   "metadata": {},
   "source": [
    "### Calculate significance of band power difference"
   ]
  },
  {
   "cell_type": "code",
   "execution_count": null,
   "id": "4215946d-c62f-41bb-89bc-e3c36be9afbb",
   "metadata": {},
   "outputs": [],
   "source": [
    "# View params\n",
    "H.get_params('peak_params')\n",
    "# center frequency, power, bandwidth, sim #"
   ]
  },
  {
   "cell_type": "code",
   "execution_count": null,
   "id": "85910ab0-cd2b-41c4-9085-4553b7c69ed1",
   "metadata": {},
   "outputs": [],
   "source": [
    "# ttest between values\n",
    "\n",
    "# Healthy condition\n",
    "healthy = []\n",
    "bandlims = [4,8]\n",
    "\n",
    "# collect data\n",
    "for peak in H.get_params('peak_params'):\n",
    "    if bandlims[0]<peak[0]<bandlims[1]:\n",
    "        healthy.append(peak[1])\n",
    "        \n",
    "# depression\n",
    "depression = []\n",
    "\n",
    "\n",
    "# compute ttest\n",
    "t,p = st.ttest_ind(healthy,depression)\n",
    "\n",
    "print('Ttest for peak power',bandlims[0],'-',bandlims[1],'Hz\\n')\n",
    "if p<0.05:\n",
    "    print('p =',p,'SIG')\n",
    "else:\n",
    "    print('p =',p,'nonsig')"
   ]
  },
  {
   "cell_type": "markdown",
   "id": "271a30a9-a1a7-4456-bd77-3a6905e69fb6",
   "metadata": {},
   "source": [
    "### Aperiodic parameter difference"
   ]
  },
  {
   "cell_type": "code",
   "execution_count": null,
   "id": "1457c195-bd8f-4acd-8399-c071bcb7620b",
   "metadata": {},
   "outputs": [],
   "source": [
    "# View params\n",
    "H.get_params('aperiodic_params')\n",
    "# center frequency, power, bandwidth, sim #"
   ]
  },
  {
   "cell_type": "code",
   "execution_count": null,
   "id": "ca471bf2-b134-4b06-ad59-ca7907da98a3",
   "metadata": {},
   "outputs": [],
   "source": [
    "# Plot Params\n",
    "offset_H = H.get_params('aperiodic_params')[:,0]\n",
    "exponent_H = H.get_params('aperiodic_params')[:,1]\n",
    "\n",
    "fig,axes = plt.subplots(figsize=(8,5),ncols=2,nrows=1)\n",
    "axes[0].scatter(np.zeros_like(offset_H),offset_H,c='k',s=100,alpha=.5)\n",
    "axes[0].scatter(np.ones_like(offset_D),offset_D,c=dclr,s=100,alpha=.5)\n",
    "axes[1].scatter(np.zeros_like(exponent_H),exponent_H,c='k',s=100,alpha=.5)\n",
    "axes[1].scatter(np.ones_like(exponent_D),exponent_D,c=dclr,s=100,alpha=.5)\n",
    "\n",
    "[ax.spines[side].set_visible(False) for side in ['right','top'] for ax in axes]\n",
    "[ax.tick_params(axis='both', which='major', labelsize=fs) for ax in axes]\n",
    "[ax.set_xlim(-.5,1.5) for ax in axes]\n",
    "[ax.set_xticks([0,1]) for ax in axes]\n",
    "[ax.set_xticklabels(['Healthy','Depression']) for ax in axes]\n",
    "\n",
    "axes[0].set_ylabel('Offset',fontsize=titlefs)\n",
    "axes[1].set_ylabel('Exponent',fontsize=titlefs)\n",
    "plt.suptitle('Aperiodic Parameter Comparison',fontsize=titlefs)\n",
    "\n",
    "plt.tight_layout()"
   ]
  },
  {
   "cell_type": "code",
   "execution_count": null,
   "id": "cda7f168-6395-4c41-aa16-ea9934b95b67",
   "metadata": {},
   "outputs": [],
   "source": [
    "# ttest between values\n",
    "\n",
    "# Healthy condition\n",
    "offset_H = H.get_params('aperiodic_params')[:,0]\n",
    "exponent_H = H.get_params('aperiodic_params')[:,1]\n",
    "\n",
    "\n",
    "# Depression condition\n",
    "\n",
    "# compute ttest\n",
    "t,p = st.ttest_ind(exponent_H,exponent_D)\n",
    "\n",
    "if p<0.05:\n",
    "    print('p =',p,'SIG')\n",
    "else:\n",
    "    print('p =',p,'non')"
   ]
  },
  {
   "cell_type": "code",
   "execution_count": null,
   "id": "653f147e-d038-40d6-99db-24b81aad5819",
   "metadata": {},
   "outputs": [],
   "source": []
  }
 ],
 "metadata": {
  "kernelspec": {
   "display_name": "Python 3",
   "language": "python",
   "name": "python3"
  },
  "language_info": {
   "codemirror_mode": {
    "name": "ipython",
    "version": 3
   },
   "file_extension": ".py",
   "mimetype": "text/x-python",
   "name": "python",
   "nbconvert_exporter": "python",
   "pygments_lexer": "ipython3",
   "version": "3.9.4"
  }
 },
 "nbformat": 4,
 "nbformat_minor": 5
}
