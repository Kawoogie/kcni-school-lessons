{
 "cells": [
  {
   "cell_type": "markdown",
   "id": "94399cf5-d012-4f6b-8977-1b9f045bd11c",
   "metadata": {},
   "source": [
    "# Raster Analysis\n",
    "\n",
    "## Healthy Raster of One Simulation\n",
    "#### Import Packages\n"
   ]
  },
  {
   "cell_type": "code",
   "execution_count": null,
   "id": "f0da6fb1-c338-4f96-9b18-476bb5509c90",
   "metadata": {},
   "outputs": [],
   "source": [
    "import numpy as np              # computing tools\n",
    "import matplotlib.pyplot as plt # plotting \n",
    "import scipy.stats as st        # statistics"
   ]
  },
  {
   "cell_type": "markdown",
   "id": "349a7cc4-7233-41ec-9ba3-7c384ec9a248",
   "metadata": {},
   "source": [
    "#### Load in spike data"
   ]
  },
  {
   "cell_type": "code",
   "execution_count": null,
   "id": "9e6da686-07b3-40e6-8862-3032880502df",
   "metadata": {},
   "outputs": [],
   "source": [
    "SPIKES = np.load('../Data/Healthy/SPIKES_Seed1000.npy',allow_pickle=True)"
   ]
  },
  {
   "cell_type": "markdown",
   "id": "88187aaa-774d-4e8a-a115-ea974a2cbecd",
   "metadata": {},
   "source": [
    "#### Explore Population Spikelist Structure"
   ]
  },
  {
   "cell_type": "code",
   "execution_count": null,
   "id": "de5d26aa-574a-4795-a13f-2ebf4e2e4992",
   "metadata": {},
   "outputs": [],
   "source": [
    "# what's in spikes? \n",
    "\n",
    "print(SPIKES.item(0).keys(),'\\n') "
   ]
  },
  {
   "cell_type": "code",
   "execution_count": null,
   "id": "f472763c-47e2-4667-9974-333e9f16f7c0",
   "metadata": {},
   "outputs": [],
   "source": [
    "# How many cells in each population? \n",
    "popnames = ['Pyr','SST','PV','VIP'] # order of pops\n",
    "\n",
    "for i in range(4): # number of pops\n",
    "    print(popnames[i],len(SPIKES.item(0)['times'][i]))"
   ]
  },
  {
   "cell_type": "code",
   "execution_count": null,
   "id": "83a1441e-adcb-4336-948c-5fd26bafa742",
   "metadata": {},
   "outputs": [],
   "source": [
    "# Spike times of cell x\n",
    "\n",
    "'''\n",
    "\n",
    "# Structure\n",
    "\n",
    "[[Pyr1,Pyr2,Pyr3....Pyrn],\n",
    " [SST1,SST2,SST3....SSTn],\n",
    " [PV1,PV2,PV3....PVn],\n",
    " [VIP1,VIP2,VIP3,....VIPn]]\n",
    "\n",
    "'''\n",
    "\n",
    "celln = 0                               # cell number, try 0 vs 2\n",
    "print('Pyr cell', \n",
    "      SPIKES.item(0)['gids'][0][celln], # cell GID\n",
    "      [round(i) for i in SPIKES.item(0)['times'][0][celln]]) # spike times in ms"
   ]
  },
  {
   "cell_type": "markdown",
   "id": "9f313d49-5ef1-46b6-9b90-eef8581ec9fd",
   "metadata": {},
   "source": [
    "#### Plot Raster"
   ]
  },
  {
   "cell_type": "code",
   "execution_count": null,
   "id": "b395e824-987e-4a86-9c3a-1eda116fa897",
   "metadata": {},
   "outputs": [],
   "source": [
    "fig, ax = plt.subplots(figsize=(14,9),ncols=1,nrows=1)   # figure object\n",
    "\n",
    "pop_colors = ['black','red','green','orange']            # color fo each pop\n",
    "popnames = ['Pyr','SST','PV','VIP']                      # name for each pop (labels)\n",
    "fs = 14                                                  # fontsize for plot\n",
    "\n",
    "for color,spts,gids in zip(pop_colors,SPIKES.item(0)['times'], SPIKES.item(0)['gids']): # for each population...\n",
    "        t = [] # x\n",
    "        g = [] # y\n",
    "        for spt, gid in zip(spts, gids):                              # for each cell\n",
    "            t = np.r_[t, spt]                                         # add cell spiketime to t\n",
    "            g = np.r_[g, np.zeros(spt.size)+gid]                      # add cell gid to g\n",
    "        ax.plot(t[t >= 0], g[t >= 0], 's', color=color, markersize=1) # plot t and g\n",
    "        \n",
    "# Formatting\n",
    "ax.set_xlim(2000,4000)\n",
    "ax.set_ylim(0,1000)\n",
    "ax.set_ylabel('Cell Index',fontsize=fs)\n",
    "ax.set_xlabel('Time (ms)',fontsize=fs)\n",
    "ax.set_title('Raster Plot of Healthy Simulation',y=1.05,fontsize=18)\n",
    "ax.tick_params(axis='both', which='major', labelsize=fs)\n",
    "_ = [ax.spines[side].set_visible(False) for side in ['right','top']]"
   ]
  },
  {
   "cell_type": "markdown",
   "id": "aed46ab0-ee33-4adc-8e5a-e7b4cae298af",
   "metadata": {},
   "source": [
    "### Population spike counts over time"
   ]
  },
  {
   "cell_type": "markdown",
   "id": "071fd4e4-331d-4f72-b888-beedd60bef45",
   "metadata": {},
   "source": [
    "#### Subplot A - Raster (same as above)"
   ]
  },
  {
   "cell_type": "markdown",
   "id": "c162506c-c8fe-4bec-b06e-48605522b580",
   "metadata": {},
   "source": [
    "#### Subplot B - Population spike counts over time"
   ]
  },
  {
   "cell_type": "code",
   "execution_count": null,
   "id": "9b3b826f-4072-4956-a979-ba8852856484",
   "metadata": {},
   "outputs": [],
   "source": [
    "spikecounts = [0,0,0,0]      # array to hold values\n",
    "binsize = 10                 # binsize for spike histogram in ms\n",
    "\n",
    "for z,(pop,pop_spikelist) in enumerate(zip(SPIKES.item(0)['gids'],SPIKES.item(0)['times'])):\n",
    "    print('Running',popnames[z],'population ...')\n",
    "    popspikes = np.concatenate(pop_spikelist).ravel() # creates one vector with all spiketimes\n",
    "    hist,bins = np.histogram(popspikes,bins=np.arange(2000,30000+binsize,binsize)) # remove transient\n",
    "    hist_max = max(hist)\n",
    "    spikecounts[z] = [i/hist_max for i in hist] # normalize list for all pops \n",
    "    \n",
    "print('\\nRan 4 populations, binned spike vector into',len(bins),'bins')"
   ]
  },
  {
   "cell_type": "markdown",
   "id": "bbd25f2d-da8e-4a68-9790-126d7e4849ff",
   "metadata": {},
   "source": [
    "#### Subplot C - Spikerates of Nonsilent Cells"
   ]
  },
  {
   "cell_type": "code",
   "execution_count": null,
   "id": "db6afc5a-e754-493c-a494-65356775b470",
   "metadata": {},
   "outputs": [],
   "source": [
    "spikerates = [0,0,0,0]   # hold valaues\n",
    "\n",
    "for z,(pop,pop_spikelist) in enumerate(zip(SPIKES.item(0)['gids'],SPIKES.item(0)['times'])):\n",
    "    print('Running',popnames[z],'population ...')\n",
    "    nonsilent_count = 0                                                        # count number of nonsilent cells\n",
    "    popspikes = []                                                             # create empty vector to hold spikes\n",
    "    for cell_spikes in pop_spikelist:                                          # for each cell spikelist in popspikelist\n",
    "        cell_spikes_posttrans = [spike for spike in cell_spikes if spike>2000] # remove transient\n",
    "        cell_spikerate = len(cell_spikes_posttrans)/28                         # spikerate post transient\n",
    "        if cell_spikerate > .2:                                                # if nonsilent\n",
    "            popspikes.append(cell_spikerate)                                   # append to population spikelist\n",
    "            nonsilent_count+=1                                                 # count as nonsilent\n",
    "    print(nonsilent_count,'nonsilent cells\\n')\n",
    "    spikerates[z]=popspikes\n"
   ]
  },
  {
   "cell_type": "code",
   "execution_count": null,
   "id": "cfedbcc4-5df9-4cbe-bbbf-c63693a45406",
   "metadata": {},
   "outputs": [],
   "source": [
    "for i in range(4):\n",
    "    print(popnames[i],[round(i,3) for i in spikerates[i][:3]]) # spikerates of the first 3 cells in each pop"
   ]
  },
  {
   "cell_type": "code",
   "execution_count": null,
   "id": "a8b6277b-57d2-4413-8e4f-f573842ddf2d",
   "metadata": {},
   "outputs": [],
   "source": [
    "spikerates_mean = [np.mean(popspikes) for popspikes in spikerates]\n",
    "spikerates_sd = [np.std(popspikes) for popspikes in spikerates]"
   ]
  },
  {
   "cell_type": "code",
   "execution_count": null,
   "id": "d6bffbb4-9e95-41d1-a486-2688e4fda12d",
   "metadata": {},
   "outputs": [],
   "source": [
    "for z in range(4):\n",
    "    print('Mean',popnames[z],'cell spikerate:',round(spikerates_mean[z],2),'+/-',round(spikerates_sd[z],2),'Hz')"
   ]
  },
  {
   "cell_type": "markdown",
   "id": "8ed7f420-8fc5-4c39-aa54-41ac65bf6cb7",
   "metadata": {},
   "source": [
    "#### Plot Figure 1"
   ]
  },
  {
   "cell_type": "code",
   "execution_count": null,
   "id": "f5ed27fe-7a4d-4630-aebe-8dd8e78a9d7d",
   "metadata": {},
   "outputs": [],
   "source": [
    "fig = plt.figure(figsize=(10,8)) # fig object\n",
    "\n",
    "# controls\n",
    "xmin,xmax = 2000,4000\n",
    "\n",
    "\n",
    "#======================\n",
    "# Plot Raster\n",
    "#======================\n",
    "ax = fig.add_axes([0,.38,.65,.58]) # subplot A, to plot raster\n",
    "\n",
    "for color,spts,gids in zip(pop_colors,SPIKES.item(0)['times'], SPIKES.item(0)['gids']): # same as above\n",
    "        t = []\n",
    "        g = []\n",
    "        for spt, gid in zip(spts, gids):\n",
    "            t = np.r_[t, spt]\n",
    "            g = np.r_[g, np.zeros(spt.size)+gid]\n",
    "        ax.plot(t[t >= 0], g[t >= 0], 's', color=color, markersize=1)\n",
    "\n",
    "#======================\n",
    "# Plot Population Spikerates\n",
    "#======================\n",
    "\n",
    "x = bins[1:]                                # bins for histogram we created, shared for all axes\n",
    "VIP = fig.add_axes([0,.24,.65,.06])         # subplot to plot VIP spike counts\n",
    "VIP.plot(x,spikecounts[3],color='orange')   # spikecounts for VIP\n",
    "\n",
    "PV = fig.add_axes([0,.16,.65,.06])\n",
    "PV.plot(x,spikecounts[2],color='green')\n",
    "\n",
    "SST = fig.add_axes([0,.08,.65,.06])\n",
    "SST.plot(x,spikecounts[1],color='red')\n",
    "\n",
    "Pyr = fig.add_axes([0,0,.65,.06])\n",
    "Pyr.plot(x,spikecounts[0],color='k')\n",
    "\n",
    "\n",
    "#======================\n",
    "# Format\n",
    "#======================\n",
    "\n",
    "axes = [ax,VIP,PV,SST,Pyr]\n",
    "titlefs = 16\n",
    "ax.set_ylim(0,1000)\n",
    "ax.set_ylabel('Cell Index',fontsize=fs)\n",
    "ax.set_title('A',loc='left',x=-.1,y=1.03,fontsize=titlefs,weight='bold')\n",
    "[ax.set_xlim(xmin,xmax) for ax in axes]\n",
    "[ax.set_ylim(0,1) for ax in axes[1:]]\n",
    "_ = [ax.spines[side].set_visible(False) for side in ['right','top'] for ax in axes]\n",
    "[ax.tick_params(axis='both', which='major', labelsize=fs) for ax in axes]\n",
    "[ax.set_xticklabels([]) for ax in axes[:-1]]\n",
    "[ax.set_yticklabels([]) for ax in [VIP,SST,PV]]\n",
    "ax3 = fig.add_axes([.75,.38,.25,.58])\n",
    "ax3.bar(np.arange(0,4,1),spikerates_mean,yerr=spikerates_sd,capsize=2,color = pop_colors,alpha=.7)\n",
    "ax3.set_xticks(ticks=[0,1,2,3])\n",
    "_ = ax3.set_xticklabels(popnames,fontsize=fs)\n",
    "_ = [ax3.spines[side].set_visible(False) for side in ['right','top']]\n",
    "ax3.set_ylabel('Spikerate (Hz)',fontsize=fs)\n",
    "ax3.set_xlabel('Population',fontsize=fs)\n",
    "ax3.tick_params(axis='both', which='major', labelsize=fs)\n",
    "ax3.set_title('C',loc='left',x=-.1,y=1.03,fontsize=titlefs,weight='bold')\n",
    "_=fig.text(x=-.045,y=.02,s='Relative Spike Count',fontsize=fs,rotation=90)\n",
    "VIP.set_title('B',loc='left',x=-.1,fontsize=titlefs,weight='bold')\n",
    "Pyr.set_xlabel('Time (ms)',fontsize=fs)\n",
    "\n",
    "\n"
   ]
  },
  {
   "cell_type": "markdown",
   "id": "5e768274-edf2-4129-9e7b-439368191246",
   "metadata": {},
   "source": [
    "## Healthy Condition Statistics"
   ]
  },
  {
   "cell_type": "markdown",
   "id": "36bbfbea-8908-4f82-a36b-fbdf35a9fc49",
   "metadata": {},
   "source": [
    "#### Load in multiple simulations"
   ]
  },
  {
   "cell_type": "code",
   "execution_count": null,
   "id": "aa598136-5ce0-4ea0-b6ce-8ddfacaefa39",
   "metadata": {},
   "outputs": [],
   "source": [
    "# Load in data\n",
    "SPIKES_H = []                                              # holds spikes from 5 simulations\n",
    "\n",
    "print('Loading spike data from:\\n')\n",
    "\n",
    "# iterate through filenames\n",
    "for i in range(1000,1005,1):                               # iterate through 5 files\n",
    "    filename = '../Data/Healthy/SPIKES_Seed'+str(i)+'.npy' # filename increases with i\n",
    "    print(filename)                                        # print filename\n",
    "    SPIKES_H.append(np.load(filename,allow_pickle=True))   # append array of spikes to emptpy SPIKES list\n",
    "    "
   ]
  },
  {
   "cell_type": "markdown",
   "id": "266a3819-4fc9-474a-8212-dbbb9c5e1512",
   "metadata": {},
   "source": [
    "#### Spike Rates of Nonsilent Cells"
   ]
  },
  {
   "cell_type": "code",
   "execution_count": null,
   "id": "6eb1b9cd-f5c0-4dfd-bdcb-6bee1724836e",
   "metadata": {},
   "outputs": [],
   "source": [
    "# Creat vector to hold spikes\n",
    "spikerates_h = [[0,0,0,0] for i in range(len(SPIKES_H))] # 5 (runs) x 4 (pops/run)\n",
    "spikerates_h"
   ]
  },
  {
   "cell_type": "code",
   "execution_count": null,
   "id": "c1ea0a85-bc15-4462-b103-b13040b24d7c",
   "metadata": {},
   "outputs": [],
   "source": [
    "# Create population spikerate vector of nonsilent cells for each run\n",
    "\n",
    "spikerates_h = [[0,0,0,0] for i in range(len(SPIKES_H))]             # 5 (runs) x 4 (pops/run)\n",
    "\n",
    "for r,SPIKES in enumerate(SPIKES_H):                                 # for each run in the healthy condition\n",
    "    print('Processing run',r,'...')                                  # r = spikesSEED#\n",
    "    for z,(pop,pop_spikelist) in enumerate(zip(SPIKES.item(0)['gids'],SPIKES.item(0)['times'])): # popname, popids, spikes\n",
    "        popspikes = []                                               # empty list to all all nonsilent spikes\n",
    "        for cell_spikes in pop_spikelist:                            # each cell spikelist in popspikelist\n",
    "            cell_spikes_posttrans = [spike for spike in cell_spikes if spike>2000] # only take spikes after 2000ms\n",
    "            cell_spikerate = len(cell_spikes_posttrans)/28           # spikerate = # spikes in list / 28 s\n",
    "            if cell_spikerate > .2:                                  # .2 Hz threshold\n",
    "                popspikes.append(cell_spikerate)                     # add cell spikerate to list\n",
    "        spikerates_h[r][z]=popspikes                                 # put spikerates in run x pop"
   ]
  },
  {
   "cell_type": "code",
   "execution_count": null,
   "id": "dc3e81a0-42b8-472a-91e9-4d0eef1de1db",
   "metadata": {},
   "outputs": [],
   "source": [
    "# View spike rates of first 3 cells in pop\n",
    "\n",
    "run = 0\n",
    "pop = 0\n",
    "\n",
    "print('All Healthy run',run,'pop',pop,\n",
    "      [round(i,2) for i in spikerates_h[run][pop][:3]]) # 5 runs x 4 pops x poplen spikerates\n",
    "\n",
    "if run ==0:\n",
    "    print('First Healthy          ',[round(i,2) for i in spikerates[pop][:3]])"
   ]
  },
  {
   "cell_type": "code",
   "execution_count": null,
   "id": "ebe6dcd1-f10a-4669-a79b-77299c08cd75",
   "metadata": {},
   "outputs": [],
   "source": [
    "# Calculate mean population spike rates for each run\n",
    "\n",
    "spikerates_h_mean_temp = [] # store spikerates\n",
    "\n",
    "for run in spikerates_h:\n",
    "    spikerates_h_mean_temp.append([np.mean(popspikes) for popspikes in run]) # [Pyr,SST,PV,VIP]\n",
    "    \n",
    "spikerates_h_mean_temp = np.array(spikerates_h_mean_temp)"
   ]
  },
  {
   "cell_type": "code",
   "execution_count": null,
   "id": "60672bc8-c7d0-457b-af2e-552f0397efdb",
   "metadata": {},
   "outputs": [],
   "source": [
    "# View population spike rates for each run\n",
    "\n",
    "spikerates_h_mean_temp"
   ]
  },
  {
   "cell_type": "code",
   "execution_count": null,
   "id": "ab663f72-5439-4435-854d-857358a5738f",
   "metadata": {},
   "outputs": [],
   "source": [
    "# Calculate mean population spike rates for each pop\n",
    "\n",
    "spikerates_h_mean = np.mean(spikerates_h_mean_temp,axis=0)\n",
    "spikerates_h_sd = np.std(spikerates_h_mean_temp,axis=0)\n",
    "\n",
    "spikerates_h_mean"
   ]
  },
  {
   "cell_type": "code",
   "execution_count": null,
   "id": "8c811179-730c-4436-a26d-1e846f015698",
   "metadata": {},
   "outputs": [],
   "source": [
    "fig = plt.figure(figsize=(8,5))      # fig obj\n",
    "\n",
    "#======================\n",
    "# Spikerates\n",
    "#======================\n",
    "axes = plt.subplot(111)               # subplot for plotting\n",
    "x = np.arange(0,4,1)                  # 4 populations, so 4 ticks [0,1,2,3]\n",
    "\n",
    "axes.bar(x = x,                       # place bars\n",
    "         height=spikerates_h_mean,    # heigh of bar\n",
    "         yerr=spikerates_h_sd,        # SD\n",
    "         color=pop_colors,            # color code pops\n",
    "         alpha=.6,                    # decrease opacity to better see error bar\n",
    "         capsize=3)                   # error bar capsize\n",
    "\n",
    "\n",
    "\n",
    "#======================\n",
    "# Formatting\n",
    "#======================\n",
    "axes.set_xticks(ticks=[0,1,2,3])\n",
    "axes.set_xticklabels(popnames,fontsize=fs)\n",
    "[axes.spines[side].set_visible(False) for side in ['right','top']]\n",
    "axes.set_xlabel('Population',fontsize=fs)\n",
    "axes.tick_params(axis='both', which='major', labelsize=fs)\n",
    "axes.set_ylabel('Spikerate (Hz)',fontsize=fs)\n",
    "axes.set_title('Population Spike Rate',y=1.05,fontsize=titlefs)\n",
    "plt.tight_layout()"
   ]
  },
  {
   "cell_type": "markdown",
   "id": "13bc88ee-3ea8-469f-84fa-052a5551ece6",
   "metadata": {},
   "source": [
    "## Compare Healthy and Depression Microcircuits"
   ]
  },
  {
   "cell_type": "markdown",
   "id": "99c09881-22e0-4bc5-ae20-a1c0d36ccbba",
   "metadata": {},
   "source": [
    "### Task 1: Compare Raster Plots between Conditions"
   ]
  },
  {
   "cell_type": "code",
   "execution_count": null,
   "id": "e84a3fc9-7bf5-4b39-8156-a59305321d98",
   "metadata": {},
   "outputs": [],
   "source": [
    "# Load in Depression data\n",
    "print('Depression Spikes:')\n"
   ]
  },
  {
   "cell_type": "code",
   "execution_count": null,
   "id": "8f78e26b-9ab6-43d1-9fb6-124d082fae55",
   "metadata": {},
   "outputs": [],
   "source": [
    "# Plot Raster of Healthy and Depression\n",
    "fig = plt.figure(figsize=(15,8)) # figure object\n",
    "\n",
    "# Controls\n",
    "\n",
    "run = 0\n",
    "xmin,xmax = 2000,4000\n",
    "\n",
    "#======================\n",
    "# Healthy\n",
    "#======================\n",
    "\n",
    "healthy = plt.subplot(121) # subplot to hold healthy raster\n",
    "for color,spts,gids in zip(pop_colors,SPIKES_H[run].item(0)['times'], SPIKES_H[run].item(0)['gids']):\n",
    "        t = []\n",
    "        g = []\n",
    "        for spt, gid in zip(spts, gids):\n",
    "            t = np.r_[t, spt]\n",
    "            g = np.r_[g, np.zeros(spt.size)+gid]\n",
    "        healthy.plot(t[t >= 0], g[t >= 0], 's', color=color, markersize=1)\n",
    "\n",
    "\n",
    "#======================\n",
    "# Depression\n",
    "#======================\n",
    "# use spikes from one depression simulation, and plot\n",
    "\n",
    "depression = plt.subplot(122) # subplot to hold depression raster\n",
    "\n",
    "        \n",
    "#======================\n",
    "# Formatting\n",
    "#======================\n",
    "axes = [healthy,depression]\n",
    "healthy.set_ylabel('Cell Index',fontsize=fs)\n",
    "healthy.set_title('Raster Plot of Healthy Simulation',y=1.05,fontsize=titlefs)\n",
    "depression.set_title('Raster Plot of Depression Simulation',y=1.05,fontsize=titlefs)\n",
    "[ax.set_xlim(xmin,xmax) for ax in axes]\n",
    "[ax.set_ylim(0,1000) for ax in axes]\n",
    "[ax.set_xlabel('Time (ms)',fontsize=fs) for ax in axes]\n",
    "[ax.tick_params(axis='both', which='major', labelsize=fs) for ax in axes]\n",
    "[ax.spines[side].set_visible(False) for side in ['right','top'] for ax in axes]\n",
    "[ax.set_title('Raster Plot of Depression Simulation',y=1.05,fontsize=titlefs)]\n",
    "plt.tight_layout()"
   ]
  },
  {
   "cell_type": "markdown",
   "id": "b9e96615-98de-4366-98a6-a3149ae7b8cf",
   "metadata": {},
   "source": [
    "### Task 2: Compare Spike Rates Between Conditions"
   ]
  },
  {
   "cell_type": "code",
   "execution_count": null,
   "id": "dae3593d-acae-4240-908e-1aba418583fa",
   "metadata": {},
   "outputs": [],
   "source": [
    "# Creat vector to hold spikes\n"
   ]
  },
  {
   "cell_type": "code",
   "execution_count": null,
   "id": "1e81bae8-7b8d-44bf-a32d-2df9af1b2bfe",
   "metadata": {},
   "outputs": [],
   "source": [
    "# Create population spike vector of nonsilent cells for each run\n"
   ]
  },
  {
   "cell_type": "code",
   "execution_count": null,
   "id": "33ed9553-2c13-4156-9f85-49d62de920e7",
   "metadata": {},
   "outputs": [],
   "source": [
    "# Calculate mean population spike rates for each run\n",
    "\n"
   ]
  },
  {
   "cell_type": "code",
   "execution_count": null,
   "id": "f6d43dd4-6184-484c-bb05-af019d73c8c0",
   "metadata": {},
   "outputs": [],
   "source": [
    "# View population spike rates for each run\n",
    "\n"
   ]
  },
  {
   "cell_type": "code",
   "execution_count": null,
   "id": "a5a908f8-12dc-42b9-830b-134b03cdd932",
   "metadata": {},
   "outputs": [],
   "source": [
    "# Calculate mean population spike rates for each pop\n",
    "\n"
   ]
  },
  {
   "cell_type": "code",
   "execution_count": null,
   "id": "e139d05b-c372-4626-8aa3-9a1afe7a573d",
   "metadata": {},
   "outputs": [],
   "source": [
    "#======================\n",
    "# Plot Spikerates\n",
    "#======================\n",
    "\n",
    "#======================\n",
    "# Setup and Parameters --- do not change\n",
    "#======================\n",
    "fig = plt.subplots(figsize=(12,6)) # figure obj\n",
    "\n",
    "dclr = (0.8, 0.0, 0.45)            # RBG value for depression\n",
    "d_colors = [dclr,dclr,dclr,dclr]   # list of clolors for population bar depression\n",
    "\n",
    "x = np.arange(0,4,1)               # xticks for population rates\n",
    "\n",
    "width = 0.4                        # width of bars\n",
    "\n",
    "h_offset = 0.0                     # use same xtick for h and d, so set offset to 0 for h\n",
    "d_offset = 0.4                     # shift depression bar .4 to right\n",
    "\n",
    "pyr_rates = plt.subplot(121)       # subplot for pyramidal rates (zoom in)\n",
    "population_rates = plt.subplot(122)# subplot for all population rates\n",
    "\n",
    "\n",
    "### Healthy\n",
    "# Population spike rates\n",
    "population_rates.bar(x+h_offset,spikerates_h_mean,width=width,yerr=spikerates_h_sd,color=pop_colors,alpha=.6,capsize=3)\n",
    "\n",
    "# Pyramidal rates zoom in\n",
    "pyr_rates.bar(x[0]+h_offset,spikerates_h_mean[0],width=width,yerr=spikerates_h_sd[0],color=pop_colors[0],alpha=.6,capsize=3)\n",
    "\n",
    "### Depression\n",
    "# use mean spike rates and sd spike rates\n",
    "# Population rates zoom in\n",
    "\n",
    "# Pyramidal rates zoom in\n",
    "# use mean spike rate and sd from Pyramidals\n",
    "\n",
    "\n",
    "#======================\n",
    "# Formatting\n",
    "#======================\n",
    "pyr_rates.set_title('Pyramidal Spike Rate',y=1.05,fontsize=titlefs)\n",
    "pyr_rates.set_ylabel('Spikerate (Hz)',fontsize=fs)\n",
    "pyr_rates.set_xlabel('Condition',fontsize=fs)\n",
    "pyr_rates.set_xticks(ticks=[0,.4])\n",
    "pyr_rates.set_xlim(-.5,1)\n",
    "pyr_rates.set_xticklabels(['Healthy','Depression'],fontsize=fs)\n",
    "pyr_rates.set_ylim(0,1.7)\n",
    "\n",
    "population_rates.set_title('Population Spike Rates',y=1.05,fontsize=titlefs)\n",
    "population_rates.set_ylabel('Spikerate (Hz)',fontsize=fs)\n",
    "population_rates.set_xlabel('Population',fontsize=fs)\n",
    "population_rates.set_xticks(ticks=[0,1,2,3])\n",
    "population_rates.set_xticklabels(popnames,fontsize=fs)\n",
    "\n",
    "axes = [pyr_rates,population_rates]\n",
    "[ax.spines[side].set_visible(False) for side in ['right','top'] for ax in axes]\n",
    "[ax.tick_params(axis='both', which='major', labelsize=fs) for ax in axes]\n",
    "[ax.legend(['Healthy','Depression'],loc='upper right',bbox_to_anchor=(1.1,1)) for ax in axes]\n",
    "plt.tight_layout()\n"
   ]
  },
  {
   "cell_type": "markdown",
   "id": "80abd727-85a3-418c-bc26-6042c984caf1",
   "metadata": {},
   "source": [
    "### Task 3: Calculate Difference, Significance, and Effect Size (If time permits)"
   ]
  },
  {
   "cell_type": "markdown",
   "id": "62516a2e-bbae-4676-a24c-611cdb6f4568",
   "metadata": {},
   "source": [
    "#### Load Necessary Packages and Functions "
   ]
  },
  {
   "cell_type": "code",
   "execution_count": null,
   "id": "a47c9215-ef08-4300-ba93-7cdbca7a22b2",
   "metadata": {},
   "outputs": [],
   "source": [
    "def cohen_d(mean1,std1,nobs1,mean2,std2,nobs2):        # effect size\n",
    "    nx = nobs1\n",
    "    ny = nobs2\n",
    "    dof = nx + ny - 2\n",
    "    return (mean1 - mean2) / np.sqrt(((nx-1)*std1 ** 2 + (ny-1)*std2 ** 2) / dof)"
   ]
  },
  {
   "cell_type": "markdown",
   "id": "fbc34890-ca6d-4f4d-a456-5170d82d8b2b",
   "metadata": {},
   "source": [
    "#### Difference"
   ]
  },
  {
   "cell_type": "code",
   "execution_count": null,
   "id": "37c864f0-1b6a-42c2-8a2e-68cc0b87563e",
   "metadata": {},
   "outputs": [],
   "source": [
    "# VIP Example\n",
    "\n",
    "VIP_diff = (spikerates_d_mean[3]-spikerates_h_mean[3])*100\n",
    "print('There is a',round(VIP_diff,1),'% increase in VIP spikerate')"
   ]
  },
  {
   "cell_type": "code",
   "execution_count": null,
   "id": "60f89d3f-3b6c-4628-9246-25b5315ae985",
   "metadata": {},
   "outputs": [],
   "source": [
    "# other populations\n"
   ]
  },
  {
   "cell_type": "markdown",
   "id": "7be7f8e7-affd-448e-b651-45b44a8561f9",
   "metadata": {},
   "source": [
    "#### P-value"
   ]
  },
  {
   "cell_type": "code",
   "execution_count": null,
   "id": "3555e561-5de6-4cb7-a96a-2ed111ccd66d",
   "metadata": {},
   "outputs": [],
   "source": [
    "pvals = [1,1,1,1]\n",
    "\n",
    "# VIP Example\n",
    "_,pvals[0] = st.ttest_ind_from_stats(\n",
    "                        mean1 = spikerates_h_mean[3], # Health VIP mean\n",
    "                        std1 = spikerates_h_sd[3],    # Healthy VIP sd\n",
    "                        nobs1 = 5,                    # number of simulations included in analysis per condition\n",
    "                        mean2 = spikerates_d_mean[3], # Depression VIP mean\n",
    "                        std2 = spikerates_d_sd[3],    # Depression VIP sd\n",
    "                        nobs2 = 5)                    # number of simulations included in analysis per condition\n"
   ]
  },
  {
   "cell_type": "code",
   "execution_count": null,
   "id": "0e9ea14e-e775-491c-bd37-8a734b62137b",
   "metadata": {},
   "outputs": [],
   "source": [
    "# other populations\n",
    "pvals = [1,1,1,1]\n"
   ]
  },
  {
   "cell_type": "markdown",
   "id": "324a0de0-975d-43f9-80de-ed1fccce0787",
   "metadata": {},
   "source": [
    "#### Effect Size"
   ]
  },
  {
   "cell_type": "code",
   "execution_count": null,
   "id": "f76e6051-25ab-4e7a-8e5e-ed849c6fe85c",
   "metadata": {},
   "outputs": [],
   "source": [
    "# VIP Example\n",
    "dvals = [0,0,0,0]\n",
    "dof = len(SPIKES_H)+len(SPIKES_D)-2\n",
    "VIP_d = cohen_d(mean1 = spikerates_h_mean[3], # Health VIP mean\n",
    "                std1 = spikerates_h_sd[3],    # Healthy VIP sd\n",
    "                nobs1 = 5,                    # number of simulations included in analysis per condition\n",
    "                mean2 = spikerates_d_mean[3], # Depression VIP mean\n",
    "                std2 = spikerates_d_sd[3],    # Depression VIP sd\n",
    "                nobs2 = 5)   \n",
    "\n",
    "print('Effect size for diff in VIP spikerates is',round(VIP_d,2))"
   ]
  },
  {
   "cell_type": "code",
   "execution_count": null,
   "id": "937864a8-4258-4b2d-a525-0ff670904962",
   "metadata": {},
   "outputs": [],
   "source": []
  }
 ],
 "metadata": {
  "kernelspec": {
   "display_name": "Python 3",
   "language": "python",
   "name": "python3"
  },
  "language_info": {
   "codemirror_mode": {
    "name": "ipython",
    "version": 3
   },
   "file_extension": ".py",
   "mimetype": "text/x-python",
   "name": "python",
   "nbconvert_exporter": "python",
   "pygments_lexer": "ipython3",
   "version": "3.9.4"
  }
 },
 "nbformat": 4,
 "nbformat_minor": 5
}
